{
 "cells": [
  {
   "cell_type": "code",
   "execution_count": 1,
   "id": "d68b65c8-254e-4d00-9445-a5418749b966",
   "metadata": {},
   "outputs": [],
   "source": [
    "import pandas as pd\n",
    "import numpy as np\n",
    "import matplotlib.pyplot as plt\n",
    "import seaborn as sns\n",
    "from sklearn.preprocessing import LabelEncoder\n",
    "from sklearn.preprocessing import MinMaxScaler, StandardScaler\n",
    "from sklearn.impute import SimpleImputer\n",
    "from sklearn.pipeline import Pipeline\n",
    "from sklearn.compose import ColumnTransformer\n",
    "from sklearn.preprocessing import PowerTransformer\n",
    "from sklearn.preprocessing import OrdinalEncoder\n",
    "from sklearn.preprocessing import StandardScaler, OneHotEncoder\n",
    "from sklearn.feature_selection import SelectKBest, f_classif\n",
    "from IPython.display import display"
   ]
  },
  {
   "cell_type": "code",
   "execution_count": null,
   "id": "8443e430-a420-44d6-960f-1a8f89262103",
   "metadata": {},
   "outputs": [],
   "source": [
    "from sklearn.preprocessing import MinMaxScaler, StandardScaler\n",
    "\n",
    "# Separate features and target\n",
    "X = df.drop(columns=[\"Level\"])   \n",
    "y = df[\"Level\"]\n",
    "\n",
    "# Select only numeric columns for scaling\n",
    "numeric_cols = X.select_dtypes(include=[\"int64\", \"float64\"]).columns.tolist()\n",
    "\n",
    "# --- MinMax Scaling (0-1 range) ---\n",
    "scaler_minmax = MinMaxScaler()\n",
    "X_minmax = X.copy()\n",
    "X_minmax[numeric_cols] = scaler_minmax.fit_transform(X[numeric_cols])\n",
    "\n",
    "# --- Standard Scaling (Z-score) ---\n",
    "scaler_std = StandardScaler()\n",
    "X_std = X.copy()\n",
    "X_std[numeric_cols] = scaler_std.fit_transform(X[numeric_cols])\n",
    "\n",
    "# Re-attach target variable for EDA\n",
    "df_minmax = X_minmax.copy()\n",
    "df_minmax[\"Level\"] = y\n",
    "\n",
    "df_std = X_std.copy()\n",
    "df_std[\"Level\"] = y\n"
   ]
  },
  {
   "cell_type": "code",
   "execution_count": null,
   "id": "80fa8c75-f529-4b95-8d63-6d14d0f41725",
   "metadata": {},
   "outputs": [],
   "source": [
    "# 3. Boxplots after MinMax Scaling\n",
    "for col in numeric_cols:\n",
    "    plt.figure(figsize=(6,4))\n",
    "    sns.boxplot(x=\"Level\", y=col, data=df_minmax, hue=\"Level\", palette=\"Set2\", legend=False)\n",
    "    plt.title(f\"Boxplot of {col} (MinMax Scaled) by Level\")\n",
    "    plt.show()"
   ]
  },
  {
   "cell_type": "code",
   "execution_count": null,
   "id": "3220f92c-0a1c-4505-aaf5-59c172697ff5",
   "metadata": {},
   "outputs": [],
   "source": [
    "# Select numeric columns only\n",
    "num_cols = df.select_dtypes(include=['int64','float64']).columns.tolist()\n",
    "\n",
    "# (Optional) remove target column if present\n",
    "if \"level_encoded\" in num_cols:\n",
    "    num_cols.remove(\"level_encoded\")\n",
    "\n",
    "# Mask the upper triangle\n",
    "mask = np.triu(np.ones_like(df[num_cols].corr(), dtype=bool))\n",
    "\n",
    "plt.figure(figsize=(12,8))\n",
    "sns.heatmap(\n",
    "    df[num_cols].corr(),\n",
    "    cmap=\"coolwarm\",\n",
    "    annot=True,\n",
    "    fmt=\".2f\",\n",
    "    mask=mask,\n",
    "    cbar=True\n",
    ")\n",
    "plt.title(\"Correlation Heatmap (Standard Scaled Features) - Lower Triangle\")\n",
    "plt.show()"
   ]
  },
  {
   "cell_type": "code",
   "execution_count": null,
   "id": "f0192b17-1ecd-4fdb-afd2-0e0c4db4b1e6",
   "metadata": {},
   "outputs": [],
   "source": []
  }
 ],
 "metadata": {
  "kernelspec": {
   "display_name": "Python 3 (ipykernel)",
   "language": "python",
   "name": "python3"
  },
  "language_info": {
   "codemirror_mode": {
    "name": "ipython",
    "version": 3
   },
   "file_extension": ".py",
   "mimetype": "text/x-python",
   "name": "python",
   "nbconvert_exporter": "python",
   "pygments_lexer": "ipython3",
   "version": "3.13.5"
  }
 },
 "nbformat": 4,
 "nbformat_minor": 5
}
