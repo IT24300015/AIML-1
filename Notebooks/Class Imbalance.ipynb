{
 "cells": [
  {
   "cell_type": "code",
   "execution_count": null,
   "id": "767d6b9e-3f9d-485d-8d75-59251e76a3c5",
   "metadata": {},
   "outputs": [],
   "source": [
    "import pandas as pd\n",
    "import numpy as np\n",
    "import matplotlib.pyplot as plt\n",
    "import seaborn as sns\n",
    "from sklearn.preprocessing import LabelEncoder\n",
    "from sklearn.preprocessing import MinMaxScaler, StandardScaler\n",
    "from sklearn.impute import SimpleImputer\n",
    "from sklearn.pipeline import Pipeline\n",
    "from sklearn.compose import ColumnTransformer\n",
    "from sklearn.preprocessing import PowerTransformer\n",
    "from sklearn.preprocessing import OrdinalEncoder\n",
    "from sklearn.preprocessing import StandardScaler, OneHotEncoder\n",
    "from sklearn.feature_selection import SelectKBest, f_classif\n",
    "from IPython.display import display"
   ]
  },
  {
   "cell_type": "code",
   "execution_count": null,
   "id": "61b663c2-3f59-4f19-a6bb-cc64fe42c3ec",
   "metadata": {},
   "outputs": [],
   "source": [
    "plt.figure(figsize=(6,4))\n",
    "sns.countplot(x=y, hue=y, palette=\"Set2\", legend=False)\n",
    "plt.title(\"Class Distribution Before Balancing\")\n",
    "plt.show()\n",
    "\n",
    "print(\"Class distribution:\\n\", y.value_counts(normalize=True) * 100)\n",
    "\n",
    "# ---------------- Handling Imbalance with SMOTE ----------------\n",
    "from imblearn.over_sampling import SMOTE\n",
    "\n",
    "# Apply SMOTE only on training data\n",
    "smote = SMOTE(random_state=42)\n",
    "X_train_resampled, y_train_resampled = smote.fit_resample(X_train, y_train)\n",
    "\n",
    "# Check new distribution after SMOTE\n",
    "plt.figure(figsize=(6,4))\n",
    "sns.countplot(x=y_train_resampled, hue=y_train_resampled, palette=\"Set1\", legend=False)\n",
    "plt.title(\"Class Distribution After SMOTE\")\n",
    "plt.show()\n",
    "\n",
    "print(\"Resampled class distribution:\\n\", y_train_resampled.value_counts(normalize=True) * 100)"
   ]
  },
  {
   "cell_type": "code",
   "execution_count": null,
   "id": "5973db1d-69e8-4e55-bb6f-209d44605176",
   "metadata": {},
   "outputs": [],
   "source": []
  }
 ],
 "metadata": {
  "kernelspec": {
   "display_name": "Python 3 (ipykernel)",
   "language": "python",
   "name": "python3"
  },
  "language_info": {
   "codemirror_mode": {
    "name": "ipython",
    "version": 3
   },
   "file_extension": ".py",
   "mimetype": "text/x-python",
   "name": "python",
   "nbconvert_exporter": "python",
   "pygments_lexer": "ipython3",
   "version": "3.13.5"
  }
 },
 "nbformat": 4,
 "nbformat_minor": 5
}
