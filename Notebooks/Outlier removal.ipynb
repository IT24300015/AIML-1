{
 "cells": [
  {
   "cell_type": "code",
   "execution_count": 1,
   "id": "798adf4d-c32c-4b3f-b700-1be682b152b2",
   "metadata": {},
   "outputs": [],
   "source": [
    "import pandas as pd\n",
    "import numpy as np\n",
    "import matplotlib.pyplot as plt\n",
    "import seaborn as sns\n",
    "from sklearn.preprocessing import LabelEncoder\n",
    "from sklearn.preprocessing import MinMaxScaler, StandardScaler\n",
    "from sklearn.impute import SimpleImputer\n",
    "from sklearn.pipeline import Pipeline\n",
    "from sklearn.compose import ColumnTransformer\n",
    "from sklearn.preprocessing import PowerTransformer\n",
    "from sklearn.preprocessing import OrdinalEncoder\n",
    "from sklearn.preprocessing import StandardScaler, OneHotEncoder\n",
    "from sklearn.feature_selection import SelectKBest, f_classif\n",
    "from IPython.display import display"
   ]
  },
  {
   "cell_type": "code",
   "execution_count": null,
   "id": "98f62eea-5a5e-432f-aeae-addbda901e1b",
   "metadata": {},
   "outputs": [],
   "source": [
    "#Outlier removal IT24300015(Da Silva H.V.N.N)\n",
    "\n",
    "# Target variable distribution (Before)\n",
    "plt.figure(figsize=(6,4))\n",
    "sns.countplot(x=\"Level\", data=df, hue=\"Level\", palette=\"viridis\", legend=False)\n",
    "plt.title(\"Target Variable Distribution (Before)\")\n",
    "plt.show()\n",
    "\n",
    "# Boxplots (Before Outlier Removal)\n",
    "num_cols = df.select_dtypes(include=[np.number]).columns\n",
    "n = len(num_cols)\n",
    "rows = math.ceil(n / 4)   # dynamic rows based on number of numeric columns\n",
    "cols = 4\n",
    "\n",
    "plt.figure(figsize=(20, rows*4))\n",
    "for i, col in enumerate(num_cols, 1):\n",
    "    plt.subplot(rows, cols, i)\n",
    "    sns.boxplot(y=df[col], color=\"skyblue\")\n",
    "    plt.title(f\"{col} - Boxplot (Before)\")\n",
    "\n",
    "plt.tight_layout()\n",
    "plt.show()"
   ]
  },
  {
   "cell_type": "code",
   "execution_count": null,
   "id": "d824900c-00f5-4e59-a5c5-be516fcb749c",
   "metadata": {},
   "outputs": [],
   "source": [
    "# Outlier Removal - IQR (Tukey) Method\n",
    "df_iqr_removed = df.copy()\n",
    "for col in num_cols:\n",
    "    Q1 = df[col].quantile(0.25)\n",
    "    Q3 = df[col].quantile(0.75)\n",
    "    IQR = Q3 - Q1\n",
    "    lower_bound = Q1 - 1.5 * IQR\n",
    "    upper_bound = Q3 + 1.5 * IQR\n",
    "    df_iqr_removed = df_iqr_removed[(df_iqr_removed[col] >= lower_bound) & (df_iqr_removed[col] <= upper_bound)]\n",
    "\n",
    "print(\"Original dataset shape:\", df.shape)\n",
    "print(\"After IQR outlier removal:\", df_iqr_removed.shape)\n",
    "\n",
    "\n",
    "# EDA - After Outlier Removal\n",
    "\n",
    "# Target variable distribution\n",
    "plt.figure(figsize=(6,4))\n",
    "sns.countplot(x=\"Level\", data=df_iqr_removed, hue=\"Level\", palette=\"magma\", legend=False)\n",
    "plt.title(\"Target Variable Distribution (After IQR Removal)\")\n",
    "plt.show()\n",
    "\n",
    "# Boxplots (After IQR Removal)\n",
    "num_cols = df_iqr_removed.select_dtypes(include=[np.number]).columns\n",
    "n = len(num_cols)\n",
    "rows = math.ceil(n / 4)  \n",
    "cols = 4                  \n",
    "plt.figure(figsize=(20, rows*4))\n",
    "for i, col in enumerate(num_cols, 1):\n",
    "    plt.subplot(rows, cols, i)\n",
    "    sns.boxplot(y=df_iqr_removed[col], color=\"salmon\")\n",
    "    plt.title(f\"{col} - Boxplot (After IQR Removal)\")\n",
    "\n",
    "plt.tight_layout()\n",
    "plt.show()"
   ]
  }
 ],
 "metadata": {
  "kernelspec": {
   "display_name": "Python 3 (ipykernel)",
   "language": "python",
   "name": "python3"
  },
  "language_info": {
   "codemirror_mode": {
    "name": "ipython",
    "version": 3
   },
   "file_extension": ".py",
   "mimetype": "text/x-python",
   "name": "python",
   "nbconvert_exporter": "python",
   "pygments_lexer": "ipython3",
   "version": "3.13.5"
  }
 },
 "nbformat": 4,
 "nbformat_minor": 5
}
