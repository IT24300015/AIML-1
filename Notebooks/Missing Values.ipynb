{
 "cells": [
  {
   "cell_type": "code",
   "execution_count": 1,
   "id": "f706ec03-1f80-48c3-b214-984a23741b30",
   "metadata": {},
   "outputs": [],
   "source": [
    "import pandas as pd\n",
    "import numpy as np\n",
    "import matplotlib.pyplot as plt\n",
    "import seaborn as sns\n",
    "from sklearn.preprocessing import LabelEncoder\n",
    "from sklearn.preprocessing import MinMaxScaler, StandardScaler\n",
    "from sklearn.impute import SimpleImputer\n",
    "from sklearn.pipeline import Pipeline\n",
    "from sklearn.compose import ColumnTransformer\n",
    "from sklearn.preprocessing import PowerTransformer\n",
    "from sklearn.preprocessing import OrdinalEncoder\n",
    "from sklearn.preprocessing import StandardScaler, OneHotEncoder\n",
    "from sklearn.feature_selection import SelectKBest, f_classif\n",
    "from IPython.display import display"
   ]
  },
  {
   "cell_type": "code",
   "execution_count": null,
   "id": "676bf19b-f89d-468a-8cf6-bcf8b3c24d47",
   "metadata": {},
   "outputs": [],
   "source": [
    "df.head()"
   ]
  },
  {
   "cell_type": "code",
   "execution_count": null,
   "id": "93bc9c2d-7f25-4f5c-a2c2-a7a7c70a7e6f",
   "metadata": {},
   "outputs": [],
   "source": [
    "df.info()"
   ]
  },
  {
   "cell_type": "code",
   "execution_count": null,
   "id": "c6de7f3c-194c-4d40-9c6c-19d58d6f042d",
   "metadata": {},
   "outputs": [],
   "source": [
    "df.describe()"
   ]
  },
  {
   "cell_type": "code",
   "execution_count": null,
   "id": "d8fadf14-59ef-40d6-8b9d-5867f963c66c",
   "metadata": {},
   "outputs": [],
   "source": [
    "df = pd.read_csv(\"C:\\\\Users\\\\NGC\\\\Desktop\\\\New folder (3)\\\\cancer patient data sets (5).csv\")\n",
    "\n",
    "# Drop unnecessary columns\n",
    "df = df.drop(columns=[\"index\", \"Patient Id\"])\n",
    "\n",
    "# Select numeric columns (exclude Level too)\n",
    "numeric_cols = df.drop(columns=[\"Level\"]).columns\n",
    "\n",
    "# Initialize PowerTransformer (Yeo-Johnson works with positive and negative values)\n",
    "pt = PowerTransformer(method='yeo-johnson')\n",
    "\n",
    "# Fit and transform all numeric columns\n",
    "df_transformed = df.copy()\n",
    "df_transformed[numeric_cols] = pt.fit_transform(df[numeric_cols])"
   ]
  },
  {
   "cell_type": "code",
   "execution_count": null,
   "id": "2c991feb-418e-4743-89d6-435368dd28c5",
   "metadata": {},
   "outputs": [],
   "source": [
    "# Plot histograms for a few sample columns\n",
    "sample_cols = [\"Age\", \"Air Pollution\", \"Alcohol use\", \"Smoking\"]\n",
    "\n",
    "for col in sample_cols:\n",
    "    plt.figure(figsize=(12,5))\n",
    "\n",
    "    plt.subplot(1,2,1)\n",
    "    sns.histplot(df[col], bins=20, kde=True, color=\"skyblue\")\n",
    "    plt.title(f\"{col} Before Transformation\")\n",
    "\n",
    "    plt.subplot(1,2,2)\n",
    "    sns.histplot(df_transformed[col], bins=20, kde=True, color=\"lightcoral\")\n",
    "    plt.title(f\"{col} After Transformation\")\n",
    "\n",
    "    plt.show()"
   ]
  }
 ],
 "metadata": {
  "kernelspec": {
   "display_name": "Python 3 (ipykernel)",
   "language": "python",
   "name": "python3"
  },
  "language_info": {
   "codemirror_mode": {
    "name": "ipython",
    "version": 3
   },
   "file_extension": ".py",
   "mimetype": "text/x-python",
   "name": "python",
   "nbconvert_exporter": "python",
   "pygments_lexer": "ipython3",
   "version": "3.13.5"
  }
 },
 "nbformat": 4,
 "nbformat_minor": 5
}
