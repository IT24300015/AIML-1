{
 "cells": [
  {
   "cell_type": "code",
   "execution_count": 1,
   "id": "cd46f230-6d55-4a23-8361-c504bb37643d",
   "metadata": {},
   "outputs": [],
   "source": [
    "import pandas as pd\n",
    "import numpy as np\n",
    "import matplotlib.pyplot as plt\n",
    "import seaborn as sns\n",
    "from sklearn.preprocessing import LabelEncoder\n",
    "from sklearn.preprocessing import MinMaxScaler, StandardScaler\n",
    "from sklearn.impute import SimpleImputer\n",
    "from sklearn.pipeline import Pipeline\n",
    "from sklearn.compose import ColumnTransformer\n",
    "from sklearn.preprocessing import PowerTransformer\n",
    "from sklearn.preprocessing import OrdinalEncoder\n",
    "from sklearn.preprocessing import StandardScaler, OneHotEncoder\n",
    "from sklearn.feature_selection import SelectKBest, f_classif\n",
    "from IPython.display import display"
   ]
  },
  {
   "cell_type": "code",
   "execution_count": null,
   "id": "4b8d4ae7-f596-45d0-83a4-b79684ce7776",
   "metadata": {},
   "outputs": [],
   "source": [
    "#Encoding categorical variables -IT24101206(Karunarathne N.W.)\n",
    "\n",
    "# Clean Level column\n",
    "df['Level_clean'] = df['Level'].astype(str).str.strip().str.title()\n",
    "df['Level_clean'] = df['Level_clean'].replace('Nan', np.nan)\n",
    "\n",
    "# Define categories\n",
    "categories = [['Low', 'Medium', 'High']]\n",
    "encoder = OrdinalEncoder(categories=categories)\n",
    "\n",
    "# Encode Level_clean -> level_encoded\n",
    "mask = ~df['Level_clean'].isna()\n",
    "df['level_encoded'] = np.nan\n",
    "df.loc[mask, 'level_encoded'] = encoder.fit_transform(\n",
    "    df.loc[mask, ['Level_clean']]\n",
    ").flatten()\n",
    "\n",
    "# Drop helper column\n",
    "df = df.drop(columns=['Level_clean'])\n",
    "\n",
    "# Show results\n",
    "print(f\"Shape: {df.shape}\")\n",
    "display(df[['Level', 'level_encoded']].head(10))\n",
    "display(df[['Level', 'level_encoded']].tail(10))\n",
    "display(df.head())"
   ]
  },
  {
   "cell_type": "code",
   "execution_count": null,
   "id": "73455e10-015d-41d8-9b97-06df44cb835d",
   "metadata": {},
   "outputs": [],
   "source": [
    "# Compare original Level vs encoded values\n",
    "fig, axes = plt.subplots(1, 2, figsize=(12,5))\n",
    "\n",
    "# Left: Categorical distribution (fixed for Seaborn 0.14+)\n",
    "sns.countplot(x=\"Level\", hue=\"Level\", data=df, \n",
    "              order=[\"Low\", \"Medium\", \"High\"], \n",
    "              palette=\"Set2\", ax=axes[0], legend=False)\n",
    "axes[0].set_title(\"Distribution of Cancer Severity Levels\")\n",
    "axes[0].set_xlabel(\"Level\")\n",
    "axes[0].set_ylabel(\"Count\")\n",
    "\n",
    "# Right: Encoded numeric distribution\n",
    "sns.histplot(df[\"level_encoded\"].dropna(), bins=3, kde=False, ax=axes[1], color=\"skyblue\")\n",
    "axes[1].set_title(\"Encoded Level Distribution\")\n",
    "axes[1].set_xlabel(\"level_encoded (0=Low, 1=Medium, 2=High)\")\n",
    "axes[1].set_ylabel(\"Count\")\n",
    "\n",
    "plt.tight_layout()\n",
    "plt.show()"
   ]
  },
  {
   "cell_type": "code",
   "execution_count": null,
   "id": "ef35ec34-4e00-49fe-8980-da58d7f33dbf",
   "metadata": {},
   "outputs": [],
   "source": []
  }
 ],
 "metadata": {
  "kernelspec": {
   "display_name": "Python 3 (ipykernel)",
   "language": "python",
   "name": "python3"
  },
  "language_info": {
   "codemirror_mode": {
    "name": "ipython",
    "version": 3
   },
   "file_extension": ".py",
   "mimetype": "text/x-python",
   "name": "python",
   "nbconvert_exporter": "python",
   "pygments_lexer": "ipython3",
   "version": "3.13.5"
  }
 },
 "nbformat": 4,
 "nbformat_minor": 5
}
